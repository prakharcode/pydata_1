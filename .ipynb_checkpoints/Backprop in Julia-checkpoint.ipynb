{
 "cells": [
  {
   "cell_type": "code",
   "execution_count": 14,
   "metadata": {},
   "outputs": [
    {
     "name": "stdout",
     "output_type": "stream",
     "text": [
      "loss 939 at run 100\n",
      "loss 282 at run 200\n",
      "loss 219 at run 300\n",
      "loss 211 at run 400\n",
      "loss 209 at run 500\n",
      "loss 208 at run 600\n",
      "loss 208 at run 700\n",
      "loss 207 at run 800\n",
      "loss 206 at run 900\n",
      "loss 206 at run 1000\n",
      "  0.240722 seconds (147.57 k allocations: 195.200 MiB, 3.96% gc time)\n"
     ]
    }
   ],
   "source": [
    "@time begin\n",
    "\n",
    "n_in, n_h, n_out = 5, 4, 2\n",
    "\n",
    "W1 = Array{Float64}(rand(n_h, n_in))\n",
    "W2 = Array{Float64}(rand(n_out, n_h))\n",
    "\n",
    "M = 1000 # no of training examples\n",
    "\n",
    "x_in = Array{Float64}(rand(n_in, M)) \n",
    "y = Array{Float64}(rand(n_out, M))\n",
    "\n",
    "α = 1e-6  # Learning rate\n",
    "\n",
    "for t in range(1,1000)\n",
    "    # forward pass\n",
    "    hidden_1 = W1 * x_in\n",
    "    activated_1 = max.(hidden_1, 0)\n",
    "    out = W2 * activated_1\n",
    "    \n",
    "    # calculate loss\n",
    "    \n",
    "    loss = sum((out .- y).^2)\n",
    "    \n",
    "    # backprop\n",
    "    ∇out = 2*(out .- y)               # [n_out,M]\n",
    "    ∇W2 = ∇out * (activated_1')       # [n_out, M] * [M * n_h] = [n_out, n_h] == shape of W2\n",
    "    ∇activated_1 = W2' * (∇out)       # [n_h, n_out] * [n_out, M]\n",
    "    ∇hidden_1 = copy(∇activated_1)    # [n_h, M]\n",
    "    ∇hidden_1[hidden_1 .< 0] = 0      # [n_h, M]\n",
    "    ∇W1 = ∇hidden_1 * (x_in')         # [n_h, M] * [M, n_in] = [n_h, n_in] == shape of W1\n",
    "    \n",
    "    # update params\n",
    "    W1 -= α * ∇W1\n",
    "    W2 -= α * ∇W2\n",
    "    \n",
    "    if t % 100 == 0\n",
    "        println(\"loss $(trunc(Int,loss)) at run $t\")\n",
    "    end\n",
    "end\n",
    "end"
   ]
  },
  {
   "cell_type": "code",
   "execution_count": null,
   "metadata": {
    "collapsed": true
   },
   "outputs": [],
   "source": []
  }
 ],
 "metadata": {
  "kernelspec": {
   "display_name": "Julia 0.6.0",
   "language": "julia",
   "name": "julia-0.6"
  },
  "language_info": {
   "file_extension": ".jl",
   "mimetype": "application/julia",
   "name": "julia",
   "version": "0.6.0"
  }
 },
 "nbformat": 4,
 "nbformat_minor": 2
}
